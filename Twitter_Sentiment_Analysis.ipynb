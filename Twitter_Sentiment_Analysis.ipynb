{
  "nbformat": 4,
  "nbformat_minor": 0,
  "metadata": {
    "colab": {
      "name": "Twitter Sentiment Analysis",
      "provenance": []
    },
    "kernelspec": {
      "name": "python3",
      "display_name": "Python 3"
    },
    "language_info": {
      "name": "python"
    }
  },
  "cells": [
    {
      "cell_type": "code",
      "execution_count": null,
      "metadata": {
        "id": "sQamkI0WN3Qv"
      },
      "outputs": [],
      "source": [
        "def strip_punctuation(word):\n",
        "    for char in punctuation_chars:\n",
        "        if char in word:\n",
        "            word = word.replace(char, '')\n",
        "    return word\n",
        "\n",
        "punctuation_chars = [\"'\", '\"', \",\", \".\", \"!\", \":\", \";\", '#', '@']\n",
        "# lists of words to use\n",
        "positive_words = []\n",
        "with open(\"positive_words.txt\") as pos_f:\n",
        "    for lin in pos_f:\n",
        "        if lin[0] != ';' and lin[0] != '\\n':\n",
        "            positive_words.append(lin.strip())\n",
        "\n",
        "def get_pos(sentence):\n",
        "    count = 0\n",
        "    sentence = strip_punctuation(sentence.lower())\n",
        "    sentence_words = sentence.split(' ')\n",
        "    for word in sentence_words:\n",
        "        if word in positive_words:\n",
        "            count = count + 1\n",
        "    return count\n",
        "\n",
        "negative_words = []\n",
        "with open(\"negative_words.txt\") as pos_f:\n",
        "    for lin in pos_f:\n",
        "        if lin[0] != ';' and lin[0] != '\\n':\n",
        "            negative_words.append(lin.strip())\n",
        "\n",
        "def get_neg(sentence):\n",
        "    count = 0\n",
        "    sentence = strip_punctuation(sentence.lower())\n",
        "    sentence_words = sentence.split(' ')\n",
        "    for word in sentence_words:\n",
        "        if word in negative_words:\n",
        "            count = count + 1\n",
        "    return count\n",
        "\n",
        "lines = open(\"project_twitter_data.csv\").readlines()[1:]\n",
        "print(lines)\n",
        "retweets = []\n",
        "replies = []\n",
        "pos_list = []\n",
        "neg_list = []\n",
        "net_list = []\n",
        "for line in lines:\n",
        "    items = line.split(',')\n",
        "    retweets.append(items[1])\n",
        "    replies.append(items[2].replace('\\n', ''))\n",
        "    text = items[0].lower()\n",
        "    pos = get_pos(text)\n",
        "    neg = get_neg(text)\n",
        "    net = pos - neg\n",
        "    pos_list.append(pos)\n",
        "    neg_list.append(neg)\n",
        "    net_list.append(net)\n",
        "    \n",
        "# new file\n",
        "output = ''\n",
        "output += 'Number of Retweets, Number of Replies, Positive Score, Negative Score, Net Score\\n'\n",
        "for i in range(len(lines)):\n",
        "    output = output + '{},{},{},{},{}\\n'.format(retweets[i], replies[i], pos_list[i], neg_list[i], net_list[i])\n",
        "\n",
        "resulting_data = open(\"resulting_data.csv\",\"w\")\n",
        "resulting_data.write(output)\n",
        "resulting_data.close()\n"
      ]
    }
  ]
}